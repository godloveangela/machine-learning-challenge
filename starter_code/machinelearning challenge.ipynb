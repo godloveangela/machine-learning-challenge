{
 "cells": [
  {
   "cell_type": "code",
   "execution_count": 1,
   "metadata": {},
   "outputs": [],
   "source": [
    "import pandas as pd\n",
    "import numpy as np\n",
    "\n",
    "from sklearn.model_selection import train_test_split\n",
    "from sklearn.preprocessing import LabelEncoder, MinMaxScaler\n",
    "from sklearn.svm import SVC \n",
    "from sklearn.model_selection import GridSearchCV"
   ]
  },
  {
   "cell_type": "markdown",
   "metadata": {},
   "source": [
    "# Read the CSV and Perform Basic Data Cleaning"
   ]
  },
  {
   "cell_type": "markdown",
   "metadata": {},
   "source": [
    "DataSource https://www.kaggle.com/nasa/kepler-exoplanet-search-results"
   ]
  },
  {
   "cell_type": "code",
   "execution_count": 2,
   "metadata": {},
   "outputs": [
    {
     "data": {
      "text/html": [
       "<div>\n",
       "<style scoped>\n",
       "    .dataframe tbody tr th:only-of-type {\n",
       "        vertical-align: middle;\n",
       "    }\n",
       "\n",
       "    .dataframe tbody tr th {\n",
       "        vertical-align: top;\n",
       "    }\n",
       "\n",
       "    .dataframe thead th {\n",
       "        text-align: right;\n",
       "    }\n",
       "</style>\n",
       "<table border=\"1\" class=\"dataframe\">\n",
       "  <thead>\n",
       "    <tr style=\"text-align: right;\">\n",
       "      <th></th>\n",
       "      <th>koi_disposition</th>\n",
       "      <th>koi_fpflag_nt</th>\n",
       "      <th>koi_fpflag_ss</th>\n",
       "      <th>koi_fpflag_co</th>\n",
       "      <th>koi_fpflag_ec</th>\n",
       "      <th>koi_period</th>\n",
       "      <th>koi_period_err1</th>\n",
       "      <th>koi_period_err2</th>\n",
       "      <th>koi_time0bk</th>\n",
       "      <th>koi_time0bk_err1</th>\n",
       "      <th>...</th>\n",
       "      <th>koi_steff_err2</th>\n",
       "      <th>koi_slogg</th>\n",
       "      <th>koi_slogg_err1</th>\n",
       "      <th>koi_slogg_err2</th>\n",
       "      <th>koi_srad</th>\n",
       "      <th>koi_srad_err1</th>\n",
       "      <th>koi_srad_err2</th>\n",
       "      <th>ra</th>\n",
       "      <th>dec</th>\n",
       "      <th>koi_kepmag</th>\n",
       "    </tr>\n",
       "  </thead>\n",
       "  <tbody>\n",
       "    <tr>\n",
       "      <th>0</th>\n",
       "      <td>CONFIRMED</td>\n",
       "      <td>0</td>\n",
       "      <td>0</td>\n",
       "      <td>0</td>\n",
       "      <td>0</td>\n",
       "      <td>54.418383</td>\n",
       "      <td>2.479000e-04</td>\n",
       "      <td>-2.479000e-04</td>\n",
       "      <td>162.513840</td>\n",
       "      <td>0.003520</td>\n",
       "      <td>...</td>\n",
       "      <td>-81</td>\n",
       "      <td>4.467</td>\n",
       "      <td>0.064</td>\n",
       "      <td>-0.096</td>\n",
       "      <td>0.927</td>\n",
       "      <td>0.105</td>\n",
       "      <td>-0.061</td>\n",
       "      <td>291.93423</td>\n",
       "      <td>48.141651</td>\n",
       "      <td>15.347</td>\n",
       "    </tr>\n",
       "    <tr>\n",
       "      <th>1</th>\n",
       "      <td>FALSE POSITIVE</td>\n",
       "      <td>0</td>\n",
       "      <td>1</td>\n",
       "      <td>0</td>\n",
       "      <td>0</td>\n",
       "      <td>19.899140</td>\n",
       "      <td>1.490000e-05</td>\n",
       "      <td>-1.490000e-05</td>\n",
       "      <td>175.850252</td>\n",
       "      <td>0.000581</td>\n",
       "      <td>...</td>\n",
       "      <td>-176</td>\n",
       "      <td>4.544</td>\n",
       "      <td>0.044</td>\n",
       "      <td>-0.176</td>\n",
       "      <td>0.868</td>\n",
       "      <td>0.233</td>\n",
       "      <td>-0.078</td>\n",
       "      <td>297.00482</td>\n",
       "      <td>48.134129</td>\n",
       "      <td>15.436</td>\n",
       "    </tr>\n",
       "    <tr>\n",
       "      <th>2</th>\n",
       "      <td>FALSE POSITIVE</td>\n",
       "      <td>0</td>\n",
       "      <td>1</td>\n",
       "      <td>0</td>\n",
       "      <td>0</td>\n",
       "      <td>1.736952</td>\n",
       "      <td>2.630000e-07</td>\n",
       "      <td>-2.630000e-07</td>\n",
       "      <td>170.307565</td>\n",
       "      <td>0.000115</td>\n",
       "      <td>...</td>\n",
       "      <td>-174</td>\n",
       "      <td>4.564</td>\n",
       "      <td>0.053</td>\n",
       "      <td>-0.168</td>\n",
       "      <td>0.791</td>\n",
       "      <td>0.201</td>\n",
       "      <td>-0.067</td>\n",
       "      <td>285.53461</td>\n",
       "      <td>48.285210</td>\n",
       "      <td>15.597</td>\n",
       "    </tr>\n",
       "    <tr>\n",
       "      <th>3</th>\n",
       "      <td>CONFIRMED</td>\n",
       "      <td>0</td>\n",
       "      <td>0</td>\n",
       "      <td>0</td>\n",
       "      <td>0</td>\n",
       "      <td>2.525592</td>\n",
       "      <td>3.760000e-06</td>\n",
       "      <td>-3.760000e-06</td>\n",
       "      <td>171.595550</td>\n",
       "      <td>0.001130</td>\n",
       "      <td>...</td>\n",
       "      <td>-211</td>\n",
       "      <td>4.438</td>\n",
       "      <td>0.070</td>\n",
       "      <td>-0.210</td>\n",
       "      <td>1.046</td>\n",
       "      <td>0.334</td>\n",
       "      <td>-0.133</td>\n",
       "      <td>288.75488</td>\n",
       "      <td>48.226200</td>\n",
       "      <td>15.509</td>\n",
       "    </tr>\n",
       "    <tr>\n",
       "      <th>4</th>\n",
       "      <td>CONFIRMED</td>\n",
       "      <td>0</td>\n",
       "      <td>0</td>\n",
       "      <td>0</td>\n",
       "      <td>0</td>\n",
       "      <td>4.134435</td>\n",
       "      <td>1.050000e-05</td>\n",
       "      <td>-1.050000e-05</td>\n",
       "      <td>172.979370</td>\n",
       "      <td>0.001900</td>\n",
       "      <td>...</td>\n",
       "      <td>-232</td>\n",
       "      <td>4.486</td>\n",
       "      <td>0.054</td>\n",
       "      <td>-0.229</td>\n",
       "      <td>0.972</td>\n",
       "      <td>0.315</td>\n",
       "      <td>-0.105</td>\n",
       "      <td>296.28613</td>\n",
       "      <td>48.224670</td>\n",
       "      <td>15.714</td>\n",
       "    </tr>\n",
       "  </tbody>\n",
       "</table>\n",
       "<p>5 rows × 41 columns</p>\n",
       "</div>"
      ],
      "text/plain": [
       "  koi_disposition  koi_fpflag_nt  koi_fpflag_ss  koi_fpflag_co  koi_fpflag_ec  \\\n",
       "0       CONFIRMED              0              0              0              0   \n",
       "1  FALSE POSITIVE              0              1              0              0   \n",
       "2  FALSE POSITIVE              0              1              0              0   \n",
       "3       CONFIRMED              0              0              0              0   \n",
       "4       CONFIRMED              0              0              0              0   \n",
       "\n",
       "   koi_period  koi_period_err1  koi_period_err2  koi_time0bk  \\\n",
       "0   54.418383     2.479000e-04    -2.479000e-04   162.513840   \n",
       "1   19.899140     1.490000e-05    -1.490000e-05   175.850252   \n",
       "2    1.736952     2.630000e-07    -2.630000e-07   170.307565   \n",
       "3    2.525592     3.760000e-06    -3.760000e-06   171.595550   \n",
       "4    4.134435     1.050000e-05    -1.050000e-05   172.979370   \n",
       "\n",
       "   koi_time0bk_err1  ...  koi_steff_err2  koi_slogg  koi_slogg_err1  \\\n",
       "0          0.003520  ...             -81      4.467           0.064   \n",
       "1          0.000581  ...            -176      4.544           0.044   \n",
       "2          0.000115  ...            -174      4.564           0.053   \n",
       "3          0.001130  ...            -211      4.438           0.070   \n",
       "4          0.001900  ...            -232      4.486           0.054   \n",
       "\n",
       "   koi_slogg_err2  koi_srad  koi_srad_err1  koi_srad_err2         ra  \\\n",
       "0          -0.096     0.927          0.105         -0.061  291.93423   \n",
       "1          -0.176     0.868          0.233         -0.078  297.00482   \n",
       "2          -0.168     0.791          0.201         -0.067  285.53461   \n",
       "3          -0.210     1.046          0.334         -0.133  288.75488   \n",
       "4          -0.229     0.972          0.315         -0.105  296.28613   \n",
       "\n",
       "         dec  koi_kepmag  \n",
       "0  48.141651      15.347  \n",
       "1  48.134129      15.436  \n",
       "2  48.285210      15.597  \n",
       "3  48.226200      15.509  \n",
       "4  48.224670      15.714  \n",
       "\n",
       "[5 rows x 41 columns]"
      ]
     },
     "execution_count": 2,
     "metadata": {},
     "output_type": "execute_result"
    }
   ],
   "source": [
    "df = pd.read_csv(\"exoplanet_data.csv\")\n",
    "# Drop the null columns where all values are null\n",
    "df = df.dropna(axis='columns', how='all')\n",
    "# Drop the null rows\n",
    "df = df.dropna()\n",
    "df.head()"
   ]
  },
  {
   "cell_type": "markdown",
   "metadata": {},
   "source": [
    "# Select your features (columns)"
   ]
  },
  {
   "cell_type": "code",
   "execution_count": 3,
   "metadata": {},
   "outputs": [
    {
     "name": "stdout",
     "output_type": "stream",
     "text": [
      "(6991, 40) (6991,)\n"
     ]
    }
   ],
   "source": [
    "# Set features. This will also be used as your x values.\n",
    "# selected_features = df[['names', 'of', 'selected', 'features', 'here']]\n",
    "\n",
    "# features are all the df columns but target variable columns\n",
    "features = df.drop(\"koi_disposition\", axis=1)\n",
    "#Use `koi_disposition` for the y values\n",
    "target = df[\"koi_disposition\"]\n",
    "print(features.shape, target.shape)"
   ]
  },
  {
   "cell_type": "code",
   "execution_count": 4,
   "metadata": {},
   "outputs": [
    {
     "name": "stdout",
     "output_type": "stream",
     "text": [
      "<class 'pandas.core.frame.DataFrame'>\n",
      "Int64Index: 6991 entries, 0 to 6990\n",
      "Data columns (total 40 columns):\n",
      " #   Column             Non-Null Count  Dtype  \n",
      "---  ------             --------------  -----  \n",
      " 0   koi_fpflag_nt      6991 non-null   int64  \n",
      " 1   koi_fpflag_ss      6991 non-null   int64  \n",
      " 2   koi_fpflag_co      6991 non-null   int64  \n",
      " 3   koi_fpflag_ec      6991 non-null   int64  \n",
      " 4   koi_period         6991 non-null   float64\n",
      " 5   koi_period_err1    6991 non-null   float64\n",
      " 6   koi_period_err2    6991 non-null   float64\n",
      " 7   koi_time0bk        6991 non-null   float64\n",
      " 8   koi_time0bk_err1   6991 non-null   float64\n",
      " 9   koi_time0bk_err2   6991 non-null   float64\n",
      " 10  koi_impact         6991 non-null   float64\n",
      " 11  koi_impact_err1    6991 non-null   float64\n",
      " 12  koi_impact_err2    6991 non-null   float64\n",
      " 13  koi_duration       6991 non-null   float64\n",
      " 14  koi_duration_err1  6991 non-null   float64\n",
      " 15  koi_duration_err2  6991 non-null   float64\n",
      " 16  koi_depth          6991 non-null   float64\n",
      " 17  koi_depth_err1     6991 non-null   float64\n",
      " 18  koi_depth_err2     6991 non-null   float64\n",
      " 19  koi_prad           6991 non-null   float64\n",
      " 20  koi_prad_err1      6991 non-null   float64\n",
      " 21  koi_prad_err2      6991 non-null   float64\n",
      " 22  koi_teq            6991 non-null   int64  \n",
      " 23  koi_insol          6991 non-null   float64\n",
      " 24  koi_insol_err1     6991 non-null   float64\n",
      " 25  koi_insol_err2     6991 non-null   float64\n",
      " 26  koi_model_snr      6991 non-null   float64\n",
      " 27  koi_tce_plnt_num   6991 non-null   int64  \n",
      " 28  koi_steff          6991 non-null   int64  \n",
      " 29  koi_steff_err1     6991 non-null   int64  \n",
      " 30  koi_steff_err2     6991 non-null   int64  \n",
      " 31  koi_slogg          6991 non-null   float64\n",
      " 32  koi_slogg_err1     6991 non-null   float64\n",
      " 33  koi_slogg_err2     6991 non-null   float64\n",
      " 34  koi_srad           6991 non-null   float64\n",
      " 35  koi_srad_err1      6991 non-null   float64\n",
      " 36  koi_srad_err2      6991 non-null   float64\n",
      " 37  ra                 6991 non-null   float64\n",
      " 38  dec                6991 non-null   float64\n",
      " 39  koi_kepmag         6991 non-null   float64\n",
      "dtypes: float64(31), int64(9)\n",
      "memory usage: 2.2 MB\n"
     ]
    }
   ],
   "source": [
    "features.info()"
   ]
  },
  {
   "cell_type": "code",
   "execution_count": 5,
   "metadata": {},
   "outputs": [
    {
     "data": {
      "text/plain": [
       "FALSE POSITIVE    3504\n",
       "CONFIRMED         1800\n",
       "CANDIDATE         1687\n",
       "Name: koi_disposition, dtype: int64"
      ]
     },
     "execution_count": 5,
     "metadata": {},
     "output_type": "execute_result"
    }
   ],
   "source": [
    "target.value_counts()"
   ]
  },
  {
   "cell_type": "markdown",
   "metadata": {},
   "source": [
    "# Create a Train Test Split\n",
    "\n",
    "Use `koi_disposition` for the y values"
   ]
  },
  {
   "cell_type": "code",
   "execution_count": 6,
   "metadata": {},
   "outputs": [],
   "source": [
    "# split the data to train and test values\n",
    "X_train, X_test, y_train, y_test = train_test_split(features, target,stratify=target)"
   ]
  },
  {
   "cell_type": "code",
   "execution_count": 7,
   "metadata": {},
   "outputs": [
    {
     "data": {
      "text/html": [
       "<div>\n",
       "<style scoped>\n",
       "    .dataframe tbody tr th:only-of-type {\n",
       "        vertical-align: middle;\n",
       "    }\n",
       "\n",
       "    .dataframe tbody tr th {\n",
       "        vertical-align: top;\n",
       "    }\n",
       "\n",
       "    .dataframe thead th {\n",
       "        text-align: right;\n",
       "    }\n",
       "</style>\n",
       "<table border=\"1\" class=\"dataframe\">\n",
       "  <thead>\n",
       "    <tr style=\"text-align: right;\">\n",
       "      <th></th>\n",
       "      <th>koi_fpflag_nt</th>\n",
       "      <th>koi_fpflag_ss</th>\n",
       "      <th>koi_fpflag_co</th>\n",
       "      <th>koi_fpflag_ec</th>\n",
       "      <th>koi_period</th>\n",
       "      <th>koi_period_err1</th>\n",
       "      <th>koi_period_err2</th>\n",
       "      <th>koi_time0bk</th>\n",
       "      <th>koi_time0bk_err1</th>\n",
       "      <th>koi_time0bk_err2</th>\n",
       "      <th>...</th>\n",
       "      <th>koi_steff_err2</th>\n",
       "      <th>koi_slogg</th>\n",
       "      <th>koi_slogg_err1</th>\n",
       "      <th>koi_slogg_err2</th>\n",
       "      <th>koi_srad</th>\n",
       "      <th>koi_srad_err1</th>\n",
       "      <th>koi_srad_err2</th>\n",
       "      <th>ra</th>\n",
       "      <th>dec</th>\n",
       "      <th>koi_kepmag</th>\n",
       "    </tr>\n",
       "  </thead>\n",
       "  <tbody>\n",
       "    <tr>\n",
       "      <th>5264</th>\n",
       "      <td>0</td>\n",
       "      <td>0</td>\n",
       "      <td>0</td>\n",
       "      <td>0</td>\n",
       "      <td>458.167540</td>\n",
       "      <td>0.031530</td>\n",
       "      <td>-0.031530</td>\n",
       "      <td>462.252200</td>\n",
       "      <td>0.050400</td>\n",
       "      <td>-0.050400</td>\n",
       "      <td>...</td>\n",
       "      <td>-162</td>\n",
       "      <td>4.566</td>\n",
       "      <td>0.029</td>\n",
       "      <td>-0.263</td>\n",
       "      <td>0.816</td>\n",
       "      <td>0.324</td>\n",
       "      <td>-0.062</td>\n",
       "      <td>294.96246</td>\n",
       "      <td>46.676289</td>\n",
       "      <td>15.983</td>\n",
       "    </tr>\n",
       "    <tr>\n",
       "      <th>5230</th>\n",
       "      <td>1</td>\n",
       "      <td>0</td>\n",
       "      <td>0</td>\n",
       "      <td>0</td>\n",
       "      <td>19.795973</td>\n",
       "      <td>0.000131</td>\n",
       "      <td>-0.000131</td>\n",
       "      <td>135.936670</td>\n",
       "      <td>0.005850</td>\n",
       "      <td>-0.005850</td>\n",
       "      <td>...</td>\n",
       "      <td>-259</td>\n",
       "      <td>4.043</td>\n",
       "      <td>0.231</td>\n",
       "      <td>-0.168</td>\n",
       "      <td>1.876</td>\n",
       "      <td>0.563</td>\n",
       "      <td>-0.563</td>\n",
       "      <td>299.44345</td>\n",
       "      <td>43.449886</td>\n",
       "      <td>9.816</td>\n",
       "    </tr>\n",
       "    <tr>\n",
       "      <th>5054</th>\n",
       "      <td>0</td>\n",
       "      <td>0</td>\n",
       "      <td>0</td>\n",
       "      <td>0</td>\n",
       "      <td>10.209027</td>\n",
       "      <td>0.000188</td>\n",
       "      <td>-0.000188</td>\n",
       "      <td>140.680500</td>\n",
       "      <td>0.018500</td>\n",
       "      <td>-0.018500</td>\n",
       "      <td>...</td>\n",
       "      <td>-135</td>\n",
       "      <td>4.196</td>\n",
       "      <td>0.115</td>\n",
       "      <td>-0.126</td>\n",
       "      <td>1.524</td>\n",
       "      <td>0.278</td>\n",
       "      <td>-0.228</td>\n",
       "      <td>289.77325</td>\n",
       "      <td>40.800720</td>\n",
       "      <td>13.310</td>\n",
       "    </tr>\n",
       "    <tr>\n",
       "      <th>2807</th>\n",
       "      <td>0</td>\n",
       "      <td>0</td>\n",
       "      <td>0</td>\n",
       "      <td>0</td>\n",
       "      <td>9.478508</td>\n",
       "      <td>0.000053</td>\n",
       "      <td>-0.000053</td>\n",
       "      <td>140.165260</td>\n",
       "      <td>0.004300</td>\n",
       "      <td>-0.004300</td>\n",
       "      <td>...</td>\n",
       "      <td>-217</td>\n",
       "      <td>4.428</td>\n",
       "      <td>0.054</td>\n",
       "      <td>-0.202</td>\n",
       "      <td>1.076</td>\n",
       "      <td>0.335</td>\n",
       "      <td>-0.112</td>\n",
       "      <td>286.97128</td>\n",
       "      <td>44.708302</td>\n",
       "      <td>14.456</td>\n",
       "    </tr>\n",
       "    <tr>\n",
       "      <th>895</th>\n",
       "      <td>0</td>\n",
       "      <td>1</td>\n",
       "      <td>0</td>\n",
       "      <td>0</td>\n",
       "      <td>9.771463</td>\n",
       "      <td>0.000003</td>\n",
       "      <td>-0.000003</td>\n",
       "      <td>135.584899</td>\n",
       "      <td>0.000219</td>\n",
       "      <td>-0.000219</td>\n",
       "      <td>...</td>\n",
       "      <td>-159</td>\n",
       "      <td>4.551</td>\n",
       "      <td>0.042</td>\n",
       "      <td>-0.168</td>\n",
       "      <td>0.853</td>\n",
       "      <td>0.212</td>\n",
       "      <td>-0.076</td>\n",
       "      <td>286.14938</td>\n",
       "      <td>49.867512</td>\n",
       "      <td>14.245</td>\n",
       "    </tr>\n",
       "  </tbody>\n",
       "</table>\n",
       "<p>5 rows × 40 columns</p>\n",
       "</div>"
      ],
      "text/plain": [
       "      koi_fpflag_nt  koi_fpflag_ss  koi_fpflag_co  koi_fpflag_ec  koi_period  \\\n",
       "5264              0              0              0              0  458.167540   \n",
       "5230              1              0              0              0   19.795973   \n",
       "5054              0              0              0              0   10.209027   \n",
       "2807              0              0              0              0    9.478508   \n",
       "895               0              1              0              0    9.771463   \n",
       "\n",
       "      koi_period_err1  koi_period_err2  koi_time0bk  koi_time0bk_err1  \\\n",
       "5264         0.031530        -0.031530   462.252200          0.050400   \n",
       "5230         0.000131        -0.000131   135.936670          0.005850   \n",
       "5054         0.000188        -0.000188   140.680500          0.018500   \n",
       "2807         0.000053        -0.000053   140.165260          0.004300   \n",
       "895          0.000003        -0.000003   135.584899          0.000219   \n",
       "\n",
       "      koi_time0bk_err2  ...  koi_steff_err2  koi_slogg  koi_slogg_err1  \\\n",
       "5264         -0.050400  ...            -162      4.566           0.029   \n",
       "5230         -0.005850  ...            -259      4.043           0.231   \n",
       "5054         -0.018500  ...            -135      4.196           0.115   \n",
       "2807         -0.004300  ...            -217      4.428           0.054   \n",
       "895          -0.000219  ...            -159      4.551           0.042   \n",
       "\n",
       "      koi_slogg_err2  koi_srad  koi_srad_err1  koi_srad_err2         ra  \\\n",
       "5264          -0.263     0.816          0.324         -0.062  294.96246   \n",
       "5230          -0.168     1.876          0.563         -0.563  299.44345   \n",
       "5054          -0.126     1.524          0.278         -0.228  289.77325   \n",
       "2807          -0.202     1.076          0.335         -0.112  286.97128   \n",
       "895           -0.168     0.853          0.212         -0.076  286.14938   \n",
       "\n",
       "            dec  koi_kepmag  \n",
       "5264  46.676289      15.983  \n",
       "5230  43.449886       9.816  \n",
       "5054  40.800720      13.310  \n",
       "2807  44.708302      14.456  \n",
       "895   49.867512      14.245  \n",
       "\n",
       "[5 rows x 40 columns]"
      ]
     },
     "execution_count": 7,
     "metadata": {},
     "output_type": "execute_result"
    }
   ],
   "source": [
    "X_train.head()"
   ]
  },
  {
   "cell_type": "markdown",
   "metadata": {},
   "source": [
    "# Pre-processing\n",
    "\n",
    "Scale the data using the MinMaxScaler and perform some feature selection"
   ]
  },
  {
   "cell_type": "code",
   "execution_count": 8,
   "metadata": {},
   "outputs": [],
   "source": [
    "# Scale your data\n",
    "X_scaler = MinMaxScaler().fit(X_train)\n",
    "X_train_scaled = X_scaler.transform(X_train)\n",
    "X_test_scaled = X_scaler.transform(X_test)"
   ]
  },
  {
   "cell_type": "markdown",
   "metadata": {},
   "source": [
    "# Train the Model\n"
   ]
  },
  {
   "cell_type": "code",
   "execution_count": 9,
   "metadata": {},
   "outputs": [
    {
     "data": {
      "text/plain": [
       "0.9016018306636155"
      ]
     },
     "execution_count": 9,
     "metadata": {},
     "output_type": "execute_result"
    }
   ],
   "source": [
    "from sklearn.ensemble import RandomForestClassifier\n",
    "model = RandomForestClassifier(n_estimators=200)\n",
    "model = model.fit(X_train_scaled, y_train)\n",
    "# model.predict(X_train_scaled)\n",
    "model.score(X_test_scaled, y_test)#pred model.predict()"
   ]
  },
  {
   "cell_type": "code",
   "execution_count": 10,
   "metadata": {},
   "outputs": [
    {
     "data": {
      "text/plain": [
       "Index(['koi_fpflag_nt', 'koi_fpflag_ss', 'koi_fpflag_co', 'koi_fpflag_ec',\n",
       "       'koi_period', 'koi_period_err1', 'koi_period_err2', 'koi_time0bk',\n",
       "       'koi_time0bk_err1', 'koi_time0bk_err2', 'koi_impact', 'koi_impact_err1',\n",
       "       'koi_impact_err2', 'koi_duration', 'koi_duration_err1',\n",
       "       'koi_duration_err2', 'koi_depth', 'koi_depth_err1', 'koi_depth_err2',\n",
       "       'koi_prad', 'koi_prad_err1', 'koi_prad_err2', 'koi_teq', 'koi_insol',\n",
       "       'koi_insol_err1', 'koi_insol_err2', 'koi_model_snr', 'koi_tce_plnt_num',\n",
       "       'koi_steff', 'koi_steff_err1', 'koi_steff_err2', 'koi_slogg',\n",
       "       'koi_slogg_err1', 'koi_slogg_err2', 'koi_srad', 'koi_srad_err1',\n",
       "       'koi_srad_err2', 'ra', 'dec', 'koi_kepmag'],\n",
       "      dtype='object')"
      ]
     },
     "execution_count": 10,
     "metadata": {},
     "output_type": "execute_result"
    }
   ],
   "source": [
    "features.columns"
   ]
  },
  {
   "cell_type": "code",
   "execution_count": 11,
   "metadata": {},
   "outputs": [
    {
     "data": {
      "text/plain": [
       "array([0.09786989, 0.06572825, 0.10838073, 0.04008364, 0.02103155,\n",
       "       0.01867885, 0.01785674, 0.01487039, 0.02112096, 0.02190094,\n",
       "       0.0187569 , 0.01147037, 0.01189176, 0.0237105 , 0.02695577,\n",
       "       0.03395148, 0.02056032, 0.0138128 , 0.01440954, 0.05205972,\n",
       "       0.03357569, 0.02938115, 0.01530365, 0.01552977, 0.01440011,\n",
       "       0.01384315, 0.06032105, 0.00372262, 0.00928283, 0.02897595,\n",
       "       0.02725455, 0.00900573, 0.00916814, 0.01056801, 0.00914985,\n",
       "       0.01058761, 0.00898246, 0.01317353, 0.01135321, 0.01131984])"
      ]
     },
     "execution_count": 11,
     "metadata": {},
     "output_type": "execute_result"
    }
   ],
   "source": [
    "model.feature_importances_"
   ]
  },
  {
   "cell_type": "code",
   "execution_count": 12,
   "metadata": {},
   "outputs": [
    {
     "data": {
      "text/plain": [
       "[(0.10838073284799021, 'koi_fpflag_co'),\n",
       " (0.09786989445147286, 'koi_fpflag_nt'),\n",
       " (0.06572824988858372, 'koi_fpflag_ss'),\n",
       " (0.06032104728369427, 'koi_model_snr'),\n",
       " (0.05205971688444264, 'koi_prad'),\n",
       " (0.04008363934039525, 'koi_fpflag_ec'),\n",
       " (0.03395148352945716, 'koi_duration_err2'),\n",
       " (0.033575686311734916, 'koi_prad_err1'),\n",
       " (0.029381154344927208, 'koi_prad_err2'),\n",
       " (0.02897595010034064, 'koi_steff_err1'),\n",
       " (0.027254547946186192, 'koi_steff_err2'),\n",
       " (0.026955773872479077, 'koi_duration_err1'),\n",
       " (0.02371050255624972, 'koi_duration'),\n",
       " (0.021900936156186775, 'koi_time0bk_err2'),\n",
       " (0.021120959443998416, 'koi_time0bk_err1'),\n",
       " (0.02103154596208847, 'koi_period'),\n",
       " (0.020560320257638237, 'koi_depth'),\n",
       " (0.01875690138895259, 'koi_impact'),\n",
       " (0.018678848980722283, 'koi_period_err1'),\n",
       " (0.017856743244131036, 'koi_period_err2'),\n",
       " (0.015529771374124018, 'koi_insol'),\n",
       " (0.015303646093963941, 'koi_teq'),\n",
       " (0.014870389245398916, 'koi_time0bk'),\n",
       " (0.01440953938025959, 'koi_depth_err2'),\n",
       " (0.014400112592934146, 'koi_insol_err1'),\n",
       " (0.013843151153189239, 'koi_insol_err2'),\n",
       " (0.013812797822261615, 'koi_depth_err1'),\n",
       " (0.013173529111747732, 'ra'),\n",
       " (0.011891759923139627, 'koi_impact_err2'),\n",
       " (0.011470369267445097, 'koi_impact_err1'),\n",
       " (0.011353209411645583, 'dec'),\n",
       " (0.011319840362416862, 'koi_kepmag'),\n",
       " (0.010587605581618894, 'koi_srad_err1'),\n",
       " (0.010568012729470645, 'koi_slogg_err2'),\n",
       " (0.009282831828178425, 'koi_steff'),\n",
       " (0.009168141804836912, 'koi_slogg_err1'),\n",
       " (0.009149847674583192, 'koi_srad'),\n",
       " (0.009005726768379557, 'koi_slogg'),\n",
       " (0.008982464883410422, 'koi_srad_err2'),\n",
       " (0.003722618199323947, 'koi_tce_plnt_num')]"
      ]
     },
     "execution_count": 12,
     "metadata": {},
     "output_type": "execute_result"
    }
   ],
   "source": [
    "sorted(zip(model.feature_importances_, features), reverse=True)"
   ]
  },
  {
   "cell_type": "code",
   "execution_count": 13,
   "metadata": {},
   "outputs": [
    {
     "name": "stdout",
     "output_type": "stream",
     "text": [
      "Training Data Score (scaled): 1.0\n",
      "Testing Data Score (scaled): 0.9016018306636155\n"
     ]
    }
   ],
   "source": [
    "print(f\"Training Data Score (scaled): {model.score(X_train_scaled, y_train)}\")\n",
    "print(f\"Testing Data Score (scaled): {model.score(X_test_scaled, y_test)}\")"
   ]
  },
  {
   "cell_type": "code",
   "execution_count": 14,
   "metadata": {},
   "outputs": [
    {
     "data": {
      "text/plain": [
       "array([[1.        , 0.        , 0.        , ..., 0.51020138, 0.04513236,\n",
       "        0.3880486 ],\n",
       "       [0.        , 0.        , 0.        , ..., 0.50667195, 0.68100902,\n",
       "        0.71724936],\n",
       "       [0.        , 1.        , 0.        , ..., 0.76013095, 0.70314157,\n",
       "        0.57682453],\n",
       "       ...,\n",
       "       [0.        , 0.        , 0.        , ..., 0.58698321, 0.07084818,\n",
       "        0.4871477 ],\n",
       "       [0.        , 0.        , 0.        , ..., 0.23787314, 0.61456836,\n",
       "        0.72815935],\n",
       "       [1.        , 0.        , 0.        , ..., 0.80803881, 0.6390738 ,\n",
       "        0.41929085]])"
      ]
     },
     "execution_count": 14,
     "metadata": {},
     "output_type": "execute_result"
    }
   ],
   "source": [
    "X_test_scaled"
   ]
  },
  {
   "cell_type": "code",
   "execution_count": 15,
   "metadata": {},
   "outputs": [
    {
     "data": {
      "text/plain": [
       "array(['FALSE POSITIVE', 'CONFIRMED', 'FALSE POSITIVE', ..., 'CONFIRMED',\n",
       "       'CONFIRMED', 'FALSE POSITIVE'], dtype=object)"
      ]
     },
     "execution_count": 15,
     "metadata": {},
     "output_type": "execute_result"
    }
   ],
   "source": [
    "ypred=model.predict(X_test_scaled)\n",
    "ypred"
   ]
  },
  {
   "cell_type": "code",
   "execution_count": 16,
   "metadata": {},
   "outputs": [
    {
     "data": {
      "text/plain": [
       "array(['FALSE POSITIVE', 'CONFIRMED', 'FALSE POSITIVE', ..., 'CONFIRMED',\n",
       "       'CANDIDATE', 'FALSE POSITIVE'], dtype=object)"
      ]
     },
     "execution_count": 16,
     "metadata": {},
     "output_type": "execute_result"
    }
   ],
   "source": [
    "y_test.values"
   ]
  },
  {
   "cell_type": "code",
   "execution_count": 17,
   "metadata": {},
   "outputs": [
    {
     "data": {
      "text/html": [
       "<div>\n",
       "<style scoped>\n",
       "    .dataframe tbody tr th:only-of-type {\n",
       "        vertical-align: middle;\n",
       "    }\n",
       "\n",
       "    .dataframe tbody tr th {\n",
       "        vertical-align: top;\n",
       "    }\n",
       "\n",
       "    .dataframe thead th {\n",
       "        text-align: right;\n",
       "    }\n",
       "</style>\n",
       "<table border=\"1\" class=\"dataframe\">\n",
       "  <thead>\n",
       "    <tr style=\"text-align: right;\">\n",
       "      <th></th>\n",
       "      <th>Predict</th>\n",
       "      <th>GroundTruth</th>\n",
       "    </tr>\n",
       "  </thead>\n",
       "  <tbody>\n",
       "    <tr>\n",
       "      <th>0</th>\n",
       "      <td>FALSE POSITIVE</td>\n",
       "      <td>FALSE POSITIVE</td>\n",
       "    </tr>\n",
       "    <tr>\n",
       "      <th>1</th>\n",
       "      <td>CONFIRMED</td>\n",
       "      <td>CONFIRMED</td>\n",
       "    </tr>\n",
       "    <tr>\n",
       "      <th>2</th>\n",
       "      <td>FALSE POSITIVE</td>\n",
       "      <td>FALSE POSITIVE</td>\n",
       "    </tr>\n",
       "    <tr>\n",
       "      <th>3</th>\n",
       "      <td>CANDIDATE</td>\n",
       "      <td>CANDIDATE</td>\n",
       "    </tr>\n",
       "    <tr>\n",
       "      <th>4</th>\n",
       "      <td>CANDIDATE</td>\n",
       "      <td>CANDIDATE</td>\n",
       "    </tr>\n",
       "    <tr>\n",
       "      <th>...</th>\n",
       "      <td>...</td>\n",
       "      <td>...</td>\n",
       "    </tr>\n",
       "    <tr>\n",
       "      <th>1743</th>\n",
       "      <td>CANDIDATE</td>\n",
       "      <td>CANDIDATE</td>\n",
       "    </tr>\n",
       "    <tr>\n",
       "      <th>1744</th>\n",
       "      <td>FALSE POSITIVE</td>\n",
       "      <td>CONFIRMED</td>\n",
       "    </tr>\n",
       "    <tr>\n",
       "      <th>1745</th>\n",
       "      <td>CONFIRMED</td>\n",
       "      <td>CONFIRMED</td>\n",
       "    </tr>\n",
       "    <tr>\n",
       "      <th>1746</th>\n",
       "      <td>CONFIRMED</td>\n",
       "      <td>CANDIDATE</td>\n",
       "    </tr>\n",
       "    <tr>\n",
       "      <th>1747</th>\n",
       "      <td>FALSE POSITIVE</td>\n",
       "      <td>FALSE POSITIVE</td>\n",
       "    </tr>\n",
       "  </tbody>\n",
       "</table>\n",
       "<p>1748 rows × 2 columns</p>\n",
       "</div>"
      ],
      "text/plain": [
       "             Predict     GroundTruth\n",
       "0     FALSE POSITIVE  FALSE POSITIVE\n",
       "1          CONFIRMED       CONFIRMED\n",
       "2     FALSE POSITIVE  FALSE POSITIVE\n",
       "3          CANDIDATE       CANDIDATE\n",
       "4          CANDIDATE       CANDIDATE\n",
       "...              ...             ...\n",
       "1743       CANDIDATE       CANDIDATE\n",
       "1744  FALSE POSITIVE       CONFIRMED\n",
       "1745       CONFIRMED       CONFIRMED\n",
       "1746       CONFIRMED       CANDIDATE\n",
       "1747  FALSE POSITIVE  FALSE POSITIVE\n",
       "\n",
       "[1748 rows x 2 columns]"
      ]
     },
     "execution_count": 17,
     "metadata": {},
     "output_type": "execute_result"
    }
   ],
   "source": [
    "res=pd.DataFrame([ypred,y_test.values]).T\n",
    "res.columns=['Predict','GroundTruth']\n",
    "res"
   ]
  },
  {
   "cell_type": "code",
   "execution_count": 18,
   "metadata": {},
   "outputs": [
    {
     "data": {
      "text/plain": [
       "0.9016018306636155"
      ]
     },
     "execution_count": 18,
     "metadata": {},
     "output_type": "execute_result"
    }
   ],
   "source": [
    "len(res[res['Predict']==res['GroundTruth']])/1748"
   ]
  },
  {
   "cell_type": "code",
   "execution_count": 19,
   "metadata": {},
   "outputs": [
    {
     "data": {
      "text/html": [
       "<div>\n",
       "<style scoped>\n",
       "    .dataframe tbody tr th:only-of-type {\n",
       "        vertical-align: middle;\n",
       "    }\n",
       "\n",
       "    .dataframe tbody tr th {\n",
       "        vertical-align: top;\n",
       "    }\n",
       "\n",
       "    .dataframe thead th {\n",
       "        text-align: right;\n",
       "    }\n",
       "</style>\n",
       "<table border=\"1\" class=\"dataframe\">\n",
       "  <thead>\n",
       "    <tr style=\"text-align: right;\">\n",
       "      <th></th>\n",
       "      <th>Predict</th>\n",
       "      <th>GroundTruth</th>\n",
       "    </tr>\n",
       "  </thead>\n",
       "  <tbody>\n",
       "    <tr>\n",
       "      <th>0</th>\n",
       "      <td>FALSE POSITIVE</td>\n",
       "      <td>FALSE POSITIVE</td>\n",
       "    </tr>\n",
       "    <tr>\n",
       "      <th>2</th>\n",
       "      <td>FALSE POSITIVE</td>\n",
       "      <td>FALSE POSITIVE</td>\n",
       "    </tr>\n",
       "    <tr>\n",
       "      <th>6</th>\n",
       "      <td>FALSE POSITIVE</td>\n",
       "      <td>FALSE POSITIVE</td>\n",
       "    </tr>\n",
       "    <tr>\n",
       "      <th>7</th>\n",
       "      <td>FALSE POSITIVE</td>\n",
       "      <td>FALSE POSITIVE</td>\n",
       "    </tr>\n",
       "    <tr>\n",
       "      <th>9</th>\n",
       "      <td>FALSE POSITIVE</td>\n",
       "      <td>FALSE POSITIVE</td>\n",
       "    </tr>\n",
       "    <tr>\n",
       "      <th>...</th>\n",
       "      <td>...</td>\n",
       "      <td>...</td>\n",
       "    </tr>\n",
       "    <tr>\n",
       "      <th>1729</th>\n",
       "      <td>FALSE POSITIVE</td>\n",
       "      <td>FALSE POSITIVE</td>\n",
       "    </tr>\n",
       "    <tr>\n",
       "      <th>1730</th>\n",
       "      <td>FALSE POSITIVE</td>\n",
       "      <td>FALSE POSITIVE</td>\n",
       "    </tr>\n",
       "    <tr>\n",
       "      <th>1733</th>\n",
       "      <td>FALSE POSITIVE</td>\n",
       "      <td>FALSE POSITIVE</td>\n",
       "    </tr>\n",
       "    <tr>\n",
       "      <th>1737</th>\n",
       "      <td>FALSE POSITIVE</td>\n",
       "      <td>FALSE POSITIVE</td>\n",
       "    </tr>\n",
       "    <tr>\n",
       "      <th>1747</th>\n",
       "      <td>FALSE POSITIVE</td>\n",
       "      <td>FALSE POSITIVE</td>\n",
       "    </tr>\n",
       "  </tbody>\n",
       "</table>\n",
       "<p>876 rows × 2 columns</p>\n",
       "</div>"
      ],
      "text/plain": [
       "             Predict     GroundTruth\n",
       "0     FALSE POSITIVE  FALSE POSITIVE\n",
       "2     FALSE POSITIVE  FALSE POSITIVE\n",
       "6     FALSE POSITIVE  FALSE POSITIVE\n",
       "7     FALSE POSITIVE  FALSE POSITIVE\n",
       "9     FALSE POSITIVE  FALSE POSITIVE\n",
       "...              ...             ...\n",
       "1729  FALSE POSITIVE  FALSE POSITIVE\n",
       "1730  FALSE POSITIVE  FALSE POSITIVE\n",
       "1733  FALSE POSITIVE  FALSE POSITIVE\n",
       "1737  FALSE POSITIVE  FALSE POSITIVE\n",
       "1747  FALSE POSITIVE  FALSE POSITIVE\n",
       "\n",
       "[876 rows x 2 columns]"
      ]
     },
     "execution_count": 19,
     "metadata": {},
     "output_type": "execute_result"
    }
   ],
   "source": [
    "res1=res[res['GroundTruth']=='FALSE POSITIVE']\n",
    "res1"
   ]
  },
  {
   "cell_type": "code",
   "execution_count": 20,
   "metadata": {},
   "outputs": [
    {
     "data": {
      "text/plain": [
       "1.0"
      ]
     },
     "execution_count": 20,
     "metadata": {},
     "output_type": "execute_result"
    }
   ],
   "source": [
    "len(res1[res1['Predict']==res1['GroundTruth']])/876"
   ]
  },
  {
   "cell_type": "code",
   "execution_count": 21,
   "metadata": {},
   "outputs": [
    {
     "name": "stdout",
     "output_type": "stream",
     "text": [
      "precise of prediction: 0.9016018306636155\n"
     ]
    },
    {
     "data": {
      "text/html": [
       "<div>\n",
       "<style scoped>\n",
       "    .dataframe tbody tr th:only-of-type {\n",
       "        vertical-align: middle;\n",
       "    }\n",
       "\n",
       "    .dataframe tbody tr th {\n",
       "        vertical-align: top;\n",
       "    }\n",
       "\n",
       "    .dataframe thead th {\n",
       "        text-align: right;\n",
       "    }\n",
       "</style>\n",
       "<table border=\"1\" class=\"dataframe\">\n",
       "  <thead>\n",
       "    <tr style=\"text-align: right;\">\n",
       "      <th></th>\n",
       "      <th>CANDIDATE</th>\n",
       "      <th>CONFIRMED</th>\n",
       "      <th>FALSE POSITIVE</th>\n",
       "      <th>accuracy</th>\n",
       "      <th>macro avg</th>\n",
       "      <th>weighted avg</th>\n",
       "    </tr>\n",
       "  </thead>\n",
       "  <tbody>\n",
       "    <tr>\n",
       "      <th>precision</th>\n",
       "      <td>0.847826</td>\n",
       "      <td>0.804979</td>\n",
       "      <td>0.975501</td>\n",
       "      <td>0.901602</td>\n",
       "      <td>0.876102</td>\n",
       "      <td>0.900779</td>\n",
       "    </tr>\n",
       "    <tr>\n",
       "      <th>recall</th>\n",
       "      <td>0.739336</td>\n",
       "      <td>0.862222</td>\n",
       "      <td>1.000000</td>\n",
       "      <td>0.901602</td>\n",
       "      <td>0.867186</td>\n",
       "      <td>0.901602</td>\n",
       "    </tr>\n",
       "    <tr>\n",
       "      <th>f1-score</th>\n",
       "      <td>0.789873</td>\n",
       "      <td>0.832618</td>\n",
       "      <td>0.987599</td>\n",
       "      <td>0.901602</td>\n",
       "      <td>0.870030</td>\n",
       "      <td>0.899966</td>\n",
       "    </tr>\n",
       "    <tr>\n",
       "      <th>support</th>\n",
       "      <td>422.000000</td>\n",
       "      <td>450.000000</td>\n",
       "      <td>876.000000</td>\n",
       "      <td>0.901602</td>\n",
       "      <td>1748.000000</td>\n",
       "      <td>1748.000000</td>\n",
       "    </tr>\n",
       "  </tbody>\n",
       "</table>\n",
       "</div>"
      ],
      "text/plain": [
       "            CANDIDATE   CONFIRMED  FALSE POSITIVE  accuracy    macro avg  \\\n",
       "precision    0.847826    0.804979        0.975501  0.901602     0.876102   \n",
       "recall       0.739336    0.862222        1.000000  0.901602     0.867186   \n",
       "f1-score     0.789873    0.832618        0.987599  0.901602     0.870030   \n",
       "support    422.000000  450.000000      876.000000  0.901602  1748.000000   \n",
       "\n",
       "           weighted avg  \n",
       "precision      0.900779  \n",
       "recall         0.901602  \n",
       "f1-score       0.899966  \n",
       "support     1748.000000  "
      ]
     },
     "execution_count": 21,
     "metadata": {},
     "output_type": "execute_result"
    }
   ],
   "source": [
    "from sklearn.metrics import classification_report\n",
    "print('precise of prediction:',model.score(X_test_scaled,y_test))\n",
    "y_pred=model.predict(X_test_scaled)\n",
    "pd.DataFrame(classification_report(y_test,y_pred,target_names=['CANDIDATE', 'CONFIRMED' , 'FALSE POSITIVE'],output_dict=True))"
   ]
  },
  {
   "cell_type": "code",
   "execution_count": 22,
   "metadata": {},
   "outputs": [
    {
     "data": {
      "image/png": "[encoded data removed]",
      "text/plain": [
       "<Figure size 576x432 with 2 Axes>"
      ]
     },
     "metadata": {
      "needs_background": "light"
     },
     "output_type": "display_data"
    }
   ],
   "source": [
    "\n",
    "import matplotlib.pyplot as plt\n",
    "from sklearn.metrics import confusion_matrix\n",
    "import seaborn as sns\n",
    "\n",
    "plt.rcParams['font.family'] = ['sans-serif']\n",
    "plt.rcParams['font.sans-serif'] = ['SimHei']\n",
    "\n",
    "cm = confusion_matrix(y_test,y_pred)\n",
    "\n",
    "ax = sns.heatmap(cm,annot=True,fmt='g',xticklabels=['CANDIDATE', 'CONFIRMED' , 'FALSE POSITIVE'],yticklabels=['CANDIDATE', 'CONFIRMED' , 'FALSE POSITIVE'],annot_kws={\"fontsize\":20})\n",
    "ax.set_xlabel('Predict',size=20) \n",
    "ax.set_ylabel('GroundTruth',size=20) \n",
    "plt.xticks(size=15)\n",
    "plt.yticks(size=15)\n",
    "plt.gcf().set_size_inches(8, 6)"
   ]
  },
  {
   "cell_type": "markdown",
   "metadata": {},
   "source": [
    "# Hyperparameter Tuning\n",
    "Use `GridSearchCV` to tune the model's parameters"
   ]
  },
  {
   "cell_type": "code",
   "execution_count": 23,
   "metadata": {},
   "outputs": [],
   "source": [
    "# Create the GridSearchCV model\n",
    "from sklearn.model_selection import GridSearchCV \n",
    "# different params for testing in search\n",
    "# param_grid = {'n_estimators':[50,100,150,200,250,300],'max_depth':[10,50,100]} \n",
    "param_grid = {'n_estimators':[50,100,150],'max_depth':[10,50,100]} # \n",
    "\n",
    "rf_grid = GridSearchCV(model, param_grid, verbose=3)"
   ]
  },
  {
   "cell_type": "code",
   "execution_count": 24,
   "metadata": {},
   "outputs": [
    {
     "data": {
      "text/plain": [
       "dict_keys(['cv', 'error_score', 'estimator__bootstrap', 'estimator__ccp_alpha', 'estimator__class_weight', 'estimator__criterion', 'estimator__max_depth', 'estimator__max_features', 'estimator__max_leaf_nodes', 'estimator__max_samples', 'estimator__min_impurity_decrease', 'estimator__min_impurity_split', 'estimator__min_samples_leaf', 'estimator__min_samples_split', 'estimator__min_weight_fraction_leaf', 'estimator__n_estimators', 'estimator__n_jobs', 'estimator__oob_score', 'estimator__random_state', 'estimator__verbose', 'estimator__warm_start', 'estimator', 'n_jobs', 'param_grid', 'pre_dispatch', 'refit', 'return_train_score', 'scoring', 'verbose'])"
      ]
     },
     "execution_count": 24,
     "metadata": {},
     "output_type": "execute_result"
    }
   ],
   "source": [
    "rf_grid.get_params().keys()"
   ]
  },
  {
   "cell_type": "code",
   "execution_count": 25,
   "metadata": {},
   "outputs": [
    {
     "name": "stdout",
     "output_type": "stream",
     "text": [
      "Fitting 5 folds for each of 9 candidates, totalling 45 fits\n",
      "[CV 1/5] END .....max_depth=10, n_estimators=50;, score=0.892 total time=   1.0s\n",
      "[CV 2/5] END .....max_depth=10, n_estimators=50;, score=0.886 total time=   0.8s\n",
      "[CV 3/5] END .....max_depth=10, n_estimators=50;, score=0.881 total time=   0.7s\n",
      "[CV 4/5] END .....max_depth=10, n_estimators=50;, score=0.891 total time=   0.7s\n",
      "[CV 5/5] END .....max_depth=10, n_estimators=50;, score=0.876 total time=   0.9s\n",
      "[CV 1/5] END ....max_depth=10, n_estimators=100;, score=0.896 total time=   1.4s\n",
      "[CV 2/5] END ....max_depth=10, n_estimators=100;, score=0.888 total time=   1.1s\n",
      "[CV 3/5] END ....max_depth=10, n_estimators=100;, score=0.886 total time=   1.2s\n",
      "[CV 4/5] END ....max_depth=10, n_estimators=100;, score=0.894 total time=   1.6s\n",
      "[CV 5/5] END ....max_depth=10, n_estimators=100;, score=0.874 total time=   1.1s\n",
      "[CV 1/5] END ....max_depth=10, n_estimators=150;, score=0.899 total time=   1.8s\n",
      "[CV 2/5] END ....max_depth=10, n_estimators=150;, score=0.888 total time=   1.8s\n",
      "[CV 3/5] END ....max_depth=10, n_estimators=150;, score=0.885 total time=   1.7s\n",
      "[CV 4/5] END ....max_depth=10, n_estimators=150;, score=0.887 total time=   1.7s\n",
      "[CV 5/5] END ....max_depth=10, n_estimators=150;, score=0.875 total time=   1.8s\n",
      "[CV 1/5] END .....max_depth=50, n_estimators=50;, score=0.898 total time=   0.8s\n",
      "[CV 2/5] END .....max_depth=50, n_estimators=50;, score=0.882 total time=   0.6s\n",
      "[CV 3/5] END .....max_depth=50, n_estimators=50;, score=0.893 total time=   0.6s\n",
      "[CV 4/5] END .....max_depth=50, n_estimators=50;, score=0.891 total time=   0.6s\n",
      "[CV 5/5] END .....max_depth=50, n_estimators=50;, score=0.879 total time=   0.6s\n",
      "[CV 1/5] END ....max_depth=50, n_estimators=100;, score=0.894 total time=   1.4s\n",
      "[CV 2/5] END ....max_depth=50, n_estimators=100;, score=0.879 total time=   1.3s\n",
      "[CV 3/5] END ....max_depth=50, n_estimators=100;, score=0.895 total time=   1.3s\n",
      "[CV 4/5] END ....max_depth=50, n_estimators=100;, score=0.896 total time=   1.3s\n",
      "[CV 5/5] END ....max_depth=50, n_estimators=100;, score=0.887 total time=   1.4s\n",
      "[CV 1/5] END ....max_depth=50, n_estimators=150;, score=0.897 total time=   2.1s\n",
      "[CV 2/5] END ....max_depth=50, n_estimators=150;, score=0.884 total time=   2.1s\n",
      "[CV 3/5] END ....max_depth=50, n_estimators=150;, score=0.893 total time=   2.5s\n",
      "[CV 4/5] END ....max_depth=50, n_estimators=150;, score=0.899 total time=   2.3s\n",
      "[CV 5/5] END ....max_depth=50, n_estimators=150;, score=0.881 total time=   2.1s\n",
      "[CV 1/5] END ....max_depth=100, n_estimators=50;, score=0.900 total time=   0.6s\n",
      "[CV 2/5] END ....max_depth=100, n_estimators=50;, score=0.879 total time=   0.6s\n",
      "[CV 3/5] END ....max_depth=100, n_estimators=50;, score=0.895 total time=   0.6s\n",
      "[CV 4/5] END ....max_depth=100, n_estimators=50;, score=0.894 total time=   0.7s\n",
      "[CV 5/5] END ....max_depth=100, n_estimators=50;, score=0.871 total time=   0.6s\n",
      "[CV 1/5] END ...max_depth=100, n_estimators=100;, score=0.901 total time=   1.3s\n",
      "[CV 2/5] END ...max_depth=100, n_estimators=100;, score=0.883 total time=   1.4s\n",
      "[CV 3/5] END ...max_depth=100, n_estimators=100;, score=0.891 total time=   1.3s\n",
      "[CV 4/5] END ...max_depth=100, n_estimators=100;, score=0.899 total time=   1.4s\n",
      "[CV 5/5] END ...max_depth=100, n_estimators=100;, score=0.878 total time=   1.3s\n",
      "[CV 1/5] END ...max_depth=100, n_estimators=150;, score=0.901 total time=   2.0s\n",
      "[CV 2/5] END ...max_depth=100, n_estimators=150;, score=0.884 total time=   2.0s\n",
      "[CV 3/5] END ...max_depth=100, n_estimators=150;, score=0.896 total time=   2.1s\n",
      "[CV 4/5] END ...max_depth=100, n_estimators=150;, score=0.896 total time=   2.0s\n",
      "[CV 5/5] END ...max_depth=100, n_estimators=150;, score=0.883 total time=   2.3s\n"
     ]
    },
    {
     "data": {
      "text/plain": [
       "GridSearchCV(estimator=RandomForestClassifier(n_estimators=200),\n",
       "             param_grid={'max_depth': [10, 50, 100],\n",
       "                         'n_estimators': [50, 100, 150]},\n",
       "             verbose=3)"
      ]
     },
     "execution_count": 25,
     "metadata": {},
     "output_type": "execute_result"
    }
   ],
   "source": [
    "# Train the model with GridSearch\n",
    "\n",
    "rf_grid.fit(X_train_scaled, y_train)"
   ]
  },
  {
   "cell_type": "code",
   "execution_count": 26,
   "metadata": {},
   "outputs": [
    {
     "name": "stdout",
     "output_type": "stream",
     "text": [
      "Best Model: RandomForestClassifier(max_depth=100, n_estimators=150)\n",
      "Best Score: 0.8918548381228215\n",
      "Best Parameters: {'max_depth': 100, 'n_estimators': 150}\n"
     ]
    }
   ],
   "source": [
    "print(\"Best Model:\",rf_grid.best_estimator_)# model=rf_grid.best_estimator_\n",
    "print(\"Best Score:\",rf_grid.best_score_)\n",
    "print(\"Best Parameters:\",rf_grid.best_params_)"
   ]
  },
  {
   "cell_type": "markdown",
   "metadata": {},
   "source": [
    "# Save the Model"
   ]
  },
  {
   "cell_type": "code",
   "execution_count": 41,
   "metadata": {},
   "outputs": [
    {
     "data": {
      "text/plain": [
       "RandomForestClassifier(n_estimators=200)"
      ]
     },
     "execution_count": 41,
     "metadata": {},
     "output_type": "execute_result"
    }
   ],
   "source": [
    "# save your model by updating \"your_name\" with your name\n",
    "# and \"your_model\" with your model variable\n",
    "# be sure to turn this in to BCS\n",
    "# if joblib fails to import, try running the command to install in terminal/git-bash\n",
    "import joblib\n",
    "filename = 'bestmodel.sav'\n",
    "joblib.dump(model,'bestmodel.sav')\n",
    "joblib.load('bestmodel.sav')"
   ]
  },
  {
   "cell_type": "markdown",
   "metadata": {},
   "source": [
    "### Compare Models"
   ]
  },
  {
   "cell_type": "code",
   "execution_count": 28,
   "metadata": {},
   "outputs": [
    {
     "data": {
      "text/plain": [
       "0.8386727688787186"
      ]
     },
     "execution_count": 28,
     "metadata": {},
     "output_type": "execute_result"
    }
   ],
   "source": [
    "from sklearn import svm\n",
    "model = svm.SVC()\n",
    "model = model.fit(X_train_scaled, y_train)\n",
    "# model.predict(X_train_scaled)\n",
    "model.score(X_test_scaled, y_test)#pred model.predict()"
   ]
  },
  {
   "cell_type": "code",
   "execution_count": 29,
   "metadata": {},
   "outputs": [
    {
     "name": "stdout",
     "output_type": "stream",
     "text": [
      "precise of prediction: 0.8386727688787186\n"
     ]
    },
    {
     "data": {
      "text/html": [
       "<div>\n",
       "<style scoped>\n",
       "    .dataframe tbody tr th:only-of-type {\n",
       "        vertical-align: middle;\n",
       "    }\n",
       "\n",
       "    .dataframe tbody tr th {\n",
       "        vertical-align: top;\n",
       "    }\n",
       "\n",
       "    .dataframe thead th {\n",
       "        text-align: right;\n",
       "    }\n",
       "</style>\n",
       "<table border=\"1\" class=\"dataframe\">\n",
       "  <thead>\n",
       "    <tr style=\"text-align: right;\">\n",
       "      <th></th>\n",
       "      <th>CANDIDATE</th>\n",
       "      <th>CONFIRMED</th>\n",
       "      <th>FALSE POSITIVE</th>\n",
       "      <th>accuracy</th>\n",
       "      <th>macro avg</th>\n",
       "      <th>weighted avg</th>\n",
       "    </tr>\n",
       "  </thead>\n",
       "  <tbody>\n",
       "    <tr>\n",
       "      <th>precision</th>\n",
       "      <td>0.812500</td>\n",
       "      <td>0.639159</td>\n",
       "      <td>0.984270</td>\n",
       "      <td>0.838673</td>\n",
       "      <td>0.811976</td>\n",
       "      <td>0.853957</td>\n",
       "    </tr>\n",
       "    <tr>\n",
       "      <th>recall</th>\n",
       "      <td>0.462085</td>\n",
       "      <td>0.877778</td>\n",
       "      <td>1.000000</td>\n",
       "      <td>0.838673</td>\n",
       "      <td>0.779954</td>\n",
       "      <td>0.838673</td>\n",
       "    </tr>\n",
       "    <tr>\n",
       "      <th>f1-score</th>\n",
       "      <td>0.589124</td>\n",
       "      <td>0.739700</td>\n",
       "      <td>0.992072</td>\n",
       "      <td>0.838673</td>\n",
       "      <td>0.773632</td>\n",
       "      <td>0.829823</td>\n",
       "    </tr>\n",
       "    <tr>\n",
       "      <th>support</th>\n",
       "      <td>422.000000</td>\n",
       "      <td>450.000000</td>\n",
       "      <td>876.000000</td>\n",
       "      <td>0.838673</td>\n",
       "      <td>1748.000000</td>\n",
       "      <td>1748.000000</td>\n",
       "    </tr>\n",
       "  </tbody>\n",
       "</table>\n",
       "</div>"
      ],
      "text/plain": [
       "            CANDIDATE   CONFIRMED  FALSE POSITIVE  accuracy    macro avg  \\\n",
       "precision    0.812500    0.639159        0.984270  0.838673     0.811976   \n",
       "recall       0.462085    0.877778        1.000000  0.838673     0.779954   \n",
       "f1-score     0.589124    0.739700        0.992072  0.838673     0.773632   \n",
       "support    422.000000  450.000000      876.000000  0.838673  1748.000000   \n",
       "\n",
       "           weighted avg  \n",
       "precision      0.853957  \n",
       "recall         0.838673  \n",
       "f1-score       0.829823  \n",
       "support     1748.000000  "
      ]
     },
     "execution_count": 29,
     "metadata": {},
     "output_type": "execute_result"
    }
   ],
   "source": [
    "from sklearn.metrics import classification_report\n",
    "print('precise of prediction:',model.score(X_test_scaled,y_test))\n",
    "y_pred=model.predict(X_test_scaled)\n",
    "svm_report=pd.DataFrame(classification_report(y_test,y_pred,target_names=['CANDIDATE', 'CONFIRMED' , 'FALSE POSITIVE'],output_dict=True))\n",
    "svm_report"
   ]
  },
  {
   "cell_type": "code",
   "execution_count": 30,
   "metadata": {},
   "outputs": [
    {
     "data": {
      "text/plain": [
       "0.9050343249427918"
      ]
     },
     "execution_count": 30,
     "metadata": {},
     "output_type": "execute_result"
    }
   ],
   "source": [
    "from sklearn.ensemble import RandomForestClassifier\n",
    "model = RandomForestClassifier(n_estimators=200)\n",
    "model = model.fit(X_train_scaled, y_train)\n",
    "model.score(X_test_scaled, y_test)#pred model.predict()"
   ]
  },
  {
   "cell_type": "code",
   "execution_count": 31,
   "metadata": {},
   "outputs": [
    {
     "name": "stdout",
     "output_type": "stream",
     "text": [
      "precise of prediction: 0.9050343249427918\n"
     ]
    },
    {
     "data": {
      "text/html": [
       "<div>\n",
       "<style scoped>\n",
       "    .dataframe tbody tr th:only-of-type {\n",
       "        vertical-align: middle;\n",
       "    }\n",
       "\n",
       "    .dataframe tbody tr th {\n",
       "        vertical-align: top;\n",
       "    }\n",
       "\n",
       "    .dataframe thead th {\n",
       "        text-align: right;\n",
       "    }\n",
       "</style>\n",
       "<table border=\"1\" class=\"dataframe\">\n",
       "  <thead>\n",
       "    <tr style=\"text-align: right;\">\n",
       "      <th></th>\n",
       "      <th>CANDIDATE</th>\n",
       "      <th>CONFIRMED</th>\n",
       "      <th>FALSE POSITIVE</th>\n",
       "      <th>accuracy</th>\n",
       "      <th>macro avg</th>\n",
       "      <th>weighted avg</th>\n",
       "    </tr>\n",
       "  </thead>\n",
       "  <tbody>\n",
       "    <tr>\n",
       "      <th>precision</th>\n",
       "      <td>0.846966</td>\n",
       "      <td>0.815678</td>\n",
       "      <td>0.976589</td>\n",
       "      <td>0.905034</td>\n",
       "      <td>0.879744</td>\n",
       "      <td>0.903871</td>\n",
       "    </tr>\n",
       "    <tr>\n",
       "      <th>recall</th>\n",
       "      <td>0.760664</td>\n",
       "      <td>0.855556</td>\n",
       "      <td>1.000000</td>\n",
       "      <td>0.905034</td>\n",
       "      <td>0.872073</td>\n",
       "      <td>0.905034</td>\n",
       "    </tr>\n",
       "    <tr>\n",
       "      <th>f1-score</th>\n",
       "      <td>0.801498</td>\n",
       "      <td>0.835141</td>\n",
       "      <td>0.988156</td>\n",
       "      <td>0.905034</td>\n",
       "      <td>0.874932</td>\n",
       "      <td>0.903701</td>\n",
       "    </tr>\n",
       "    <tr>\n",
       "      <th>support</th>\n",
       "      <td>422.000000</td>\n",
       "      <td>450.000000</td>\n",
       "      <td>876.000000</td>\n",
       "      <td>0.905034</td>\n",
       "      <td>1748.000000</td>\n",
       "      <td>1748.000000</td>\n",
       "    </tr>\n",
       "  </tbody>\n",
       "</table>\n",
       "</div>"
      ],
      "text/plain": [
       "            CANDIDATE   CONFIRMED  FALSE POSITIVE  accuracy    macro avg  \\\n",
       "precision    0.846966    0.815678        0.976589  0.905034     0.879744   \n",
       "recall       0.760664    0.855556        1.000000  0.905034     0.872073   \n",
       "f1-score     0.801498    0.835141        0.988156  0.905034     0.874932   \n",
       "support    422.000000  450.000000      876.000000  0.905034  1748.000000   \n",
       "\n",
       "           weighted avg  \n",
       "precision      0.903871  \n",
       "recall         0.905034  \n",
       "f1-score       0.903701  \n",
       "support     1748.000000  "
      ]
     },
     "execution_count": 31,
     "metadata": {},
     "output_type": "execute_result"
    }
   ],
   "source": [
    "from sklearn.metrics import classification_report\n",
    "print('precise of prediction:',model.score(X_test_scaled,y_test))\n",
    "y_pred=model.predict(X_test_scaled)\n",
    "rf_report=pd.DataFrame(classification_report(y_test,y_pred,target_names=['CANDIDATE', 'CONFIRMED' , 'FALSE POSITIVE'],output_dict=True))\n",
    "rf_report"
   ]
  },
  {
   "cell_type": "code",
   "execution_count": 32,
   "metadata": {},
   "outputs": [
    {
     "data": {
      "text/html": [
       "<div>\n",
       "<style scoped>\n",
       "    .dataframe tbody tr th:only-of-type {\n",
       "        vertical-align: middle;\n",
       "    }\n",
       "\n",
       "    .dataframe tbody tr th {\n",
       "        vertical-align: top;\n",
       "    }\n",
       "\n",
       "    .dataframe thead th {\n",
       "        text-align: right;\n",
       "    }\n",
       "</style>\n",
       "<table border=\"1\" class=\"dataframe\">\n",
       "  <thead>\n",
       "    <tr style=\"text-align: right;\">\n",
       "      <th></th>\n",
       "      <th>RandomForest</th>\n",
       "      <th>SVM</th>\n",
       "    </tr>\n",
       "  </thead>\n",
       "  <tbody>\n",
       "    <tr>\n",
       "      <th>CANDIDATE</th>\n",
       "      <td>0.846966</td>\n",
       "      <td>0.812500</td>\n",
       "    </tr>\n",
       "    <tr>\n",
       "      <th>CONFIRMED</th>\n",
       "      <td>0.815678</td>\n",
       "      <td>0.639159</td>\n",
       "    </tr>\n",
       "    <tr>\n",
       "      <th>FALSE POSITIVE</th>\n",
       "      <td>0.976589</td>\n",
       "      <td>0.984270</td>\n",
       "    </tr>\n",
       "    <tr>\n",
       "      <th>accuracy</th>\n",
       "      <td>0.905034</td>\n",
       "      <td>0.838673</td>\n",
       "    </tr>\n",
       "    <tr>\n",
       "      <th>macro avg</th>\n",
       "      <td>0.879744</td>\n",
       "      <td>0.811976</td>\n",
       "    </tr>\n",
       "    <tr>\n",
       "      <th>weighted avg</th>\n",
       "      <td>0.903871</td>\n",
       "      <td>0.853957</td>\n",
       "    </tr>\n",
       "  </tbody>\n",
       "</table>\n",
       "</div>"
      ],
      "text/plain": [
       "                RandomForest       SVM\n",
       "CANDIDATE           0.846966  0.812500\n",
       "CONFIRMED           0.815678  0.639159\n",
       "FALSE POSITIVE      0.976589  0.984270\n",
       "accuracy            0.905034  0.838673\n",
       "macro avg           0.879744  0.811976\n",
       "weighted avg        0.903871  0.853957"
      ]
     },
     "execution_count": 32,
     "metadata": {},
     "output_type": "execute_result"
    }
   ],
   "source": [
    "compare_res=pd.DataFrame([rf_report.T['precision'],svm_report.T['precision']]).T\n",
    "compare_res.columns=['RandomForest','SVM']\n",
    "compare_res"
   ]
  }
 ],
 "metadata": {
  "kernelspec": {
   "display_name": "Python 3.9.7 ('base')",
   "language": "python",
   "name": "python3"
  },
  "language_info": {
   "codemirror_mode": {
    "name": "ipython",
    "version": 3
   },
   "file_extension": ".py",
   "mimetype": "text/x-python",
   "name": "python",
   "nbconvert_exporter": "python",
   "pygments_lexer": "ipython3",
   "version": "3.9.7"
  },
  "orig_nbformat": 4,
  "vscode": {
   "interpreter": {
    "hash": "ba36a2830965e76ff6c4189cefddc471503698f8f8070ee94822ed10fce6b711"
   }
  }
 },
 "nbformat": 4,
 "nbformat_minor": 2
}
